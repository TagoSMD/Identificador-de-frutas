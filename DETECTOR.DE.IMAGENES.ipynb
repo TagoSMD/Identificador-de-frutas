{
 "cells": [
  {
   "cell_type": "code",
   "execution_count": 1,
   "id": "289a9868",
   "metadata": {},
   "outputs": [],
   "source": [
    "import tensorflow as tf\n",
    "from tensorflow.keras.preprocessing.image import ImageDataGenerator\n",
    "from tensorflow.keras.applications import VGG16\n",
    "from tensorflow.keras.layers import Dense, Flatten\n",
    "from tensorflow.keras.models import Model"
   ]
  },
  {
   "cell_type": "code",
   "execution_count": 2,
   "id": "e79276f1",
   "metadata": {},
   "outputs": [],
   "source": [
    "# Definiendo las rutas a los datos de entrenamiento y prueba\n",
    "train_dir = 'C:/Users/TAGOKG/Desktop/DatosV3/prueba'\n",
    "test_dir = 'C:/Users/TAGOKG/Desktop/DatosV3/entrenamiento'"
   ]
  },
  {
   "cell_type": "code",
   "execution_count": 3,
   "id": "3cf62657",
   "metadata": {},
   "outputs": [],
   "source": [
    "# Configurando los generadores de imágenes con ampliación de datos\n",
    "train_datagen = ImageDataGenerator(\n",
    "    rescale=1./255,\n",
    "    rotation_range=40,\n",
    "    width_shift_range=0.2,\n",
    "    height_shift_range=0.2,\n",
    "    shear_range=0.2,\n",
    "    zoom_range=0.2,\n",
    "    horizontal_flip=True,\n",
    ")\n"
   ]
  },
  {
   "cell_type": "code",
   "execution_count": 4,
   "id": "c82e9318",
   "metadata": {},
   "outputs": [
    {
     "name": "stdout",
     "output_type": "stream",
     "text": [
      "Found 5377 images belonging to 10 classes.\n",
      "Found 5351 images belonging to 10 classes.\n"
     ]
    }
   ],
   "source": [
    "test_datagen = ImageDataGenerator(rescale=1./255)\n",
    "\n",
    "train_generator = train_datagen.flow_from_directory(\n",
    "    train_dir,\n",
    "    target_size=(100, 100),\n",
    "    batch_size=20,\n",
    "    class_mode='categorical')\n",
    "\n",
    "test_generator = test_datagen.flow_from_directory(\n",
    "    test_dir,\n",
    "    target_size=(100, 100),\n",
    "    batch_size=20,\n",
    "    class_mode='categorical')"
   ]
  },
  {
   "cell_type": "code",
   "execution_count": 5,
   "id": "bf23ec4f",
   "metadata": {},
   "outputs": [],
   "source": [
    "# Creando el modelo base de VGG16\n",
    "base_model = VGG16(weights='imagenet',\n",
    "                  include_top=False,\n",
    "                  input_shape=(100, 100, 3))"
   ]
  },
  {
   "cell_type": "code",
   "execution_count": 6,
   "id": "f67015bd",
   "metadata": {},
   "outputs": [],
   "source": [
    "# Añadiendo nuevas capas\n",
    "x = base_model.output\n",
    "x = Flatten()(x)\n",
    "x = Dense(512, activation='relu')(x)\n",
    "predictions = Dense(10, activation='softmax')(x)  # 10 frutas, entonces 10 clases\n"
   ]
  },
  {
   "cell_type": "code",
   "execution_count": 7,
   "id": "f255c7d8",
   "metadata": {},
   "outputs": [],
   "source": [
    "# Este es el modelo que vamos a entrenar\n",
    "model = Model(inputs=base_model.input, outputs=predictions)"
   ]
  },
  {
   "cell_type": "code",
   "execution_count": 8,
   "id": "ab0fe0e4",
   "metadata": {},
   "outputs": [],
   "source": [
    "# Primero, vamos a entrenar solo las capas superiores que acabamos de agregar\n",
    "for layer in base_model.layers:\n",
    "    layer.trainable = False\n",
    "\n",
    "model.compile(loss='categorical_crossentropy',\n",
    "              optimizer=tf.keras.optimizers.RMSprop(learning_rate=1e-4),\n",
    "              metrics=['accuracy'])\n"
   ]
  },
  {
   "cell_type": "code",
   "execution_count": 9,
   "id": "5514dc84",
   "metadata": {},
   "outputs": [
    {
     "name": "stdout",
     "output_type": "stream",
     "text": [
      "Epoch 1/20\n",
      "100/100 [==============================] - 88s 865ms/step - loss: 1.1238 - accuracy: 0.6845 - val_loss: 0.5006 - val_accuracy: 0.8830\n",
      "Epoch 2/20\n",
      "100/100 [==============================] - 59s 587ms/step - loss: 0.4274 - accuracy: 0.9100 - val_loss: 0.4270 - val_accuracy: 0.8610\n",
      "Epoch 3/20\n",
      "100/100 [==============================] - 58s 584ms/step - loss: 0.2276 - accuracy: 0.9600 - val_loss: 0.3180 - val_accuracy: 0.9060\n",
      "Epoch 4/20\n",
      "100/100 [==============================] - 58s 586ms/step - loss: 0.1462 - accuracy: 0.9680 - val_loss: 0.3234 - val_accuracy: 0.9070\n",
      "Epoch 5/20\n",
      "100/100 [==============================] - 59s 589ms/step - loss: 0.1033 - accuracy: 0.9825 - val_loss: 0.3517 - val_accuracy: 0.9080\n",
      "Epoch 6/20\n",
      "100/100 [==============================] - 59s 590ms/step - loss: 0.0851 - accuracy: 0.9815 - val_loss: 0.4470 - val_accuracy: 0.9170\n",
      "Epoch 7/20\n",
      "100/100 [==============================] - 59s 586ms/step - loss: 0.0714 - accuracy: 0.9840 - val_loss: 0.3851 - val_accuracy: 0.9050\n",
      "Epoch 8/20\n",
      "100/100 [==============================] - 59s 584ms/step - loss: 0.0560 - accuracy: 0.9885 - val_loss: 0.3003 - val_accuracy: 0.9140\n",
      "Epoch 9/20\n",
      "100/100 [==============================] - 58s 585ms/step - loss: 0.0430 - accuracy: 0.9905 - val_loss: 0.3355 - val_accuracy: 0.9150\n",
      "Epoch 10/20\n",
      "100/100 [==============================] - 58s 580ms/step - loss: 0.0458 - accuracy: 0.9915 - val_loss: 0.5736 - val_accuracy: 0.9170\n",
      "Epoch 11/20\n",
      "100/100 [==============================] - 58s 585ms/step - loss: 0.0302 - accuracy: 0.9945 - val_loss: 0.6618 - val_accuracy: 0.9080\n",
      "Epoch 12/20\n",
      "100/100 [==============================] - 58s 583ms/step - loss: 0.0266 - accuracy: 0.9955 - val_loss: 0.5608 - val_accuracy: 0.8960\n",
      "Epoch 13/20\n",
      "100/100 [==============================] - 58s 583ms/step - loss: 0.0276 - accuracy: 0.9940 - val_loss: 0.5958 - val_accuracy: 0.9140\n",
      "Epoch 14/20\n",
      "100/100 [==============================] - 58s 585ms/step - loss: 0.0284 - accuracy: 0.9945 - val_loss: 0.4670 - val_accuracy: 0.9240\n",
      "Epoch 15/20\n",
      "100/100 [==============================] - 58s 582ms/step - loss: 0.0209 - accuracy: 0.9950 - val_loss: 0.4244 - val_accuracy: 0.9070\n",
      "Epoch 16/20\n",
      "100/100 [==============================] - 58s 584ms/step - loss: 0.0216 - accuracy: 0.9950 - val_loss: 0.3646 - val_accuracy: 0.9300\n",
      "Epoch 17/20\n",
      "100/100 [==============================] - 58s 580ms/step - loss: 0.0224 - accuracy: 0.9955 - val_loss: 0.4977 - val_accuracy: 0.9080\n",
      "Epoch 18/20\n",
      "100/100 [==============================] - 58s 582ms/step - loss: 0.0181 - accuracy: 0.9945 - val_loss: 0.6182 - val_accuracy: 0.9230\n",
      "Epoch 19/20\n",
      "100/100 [==============================] - 58s 584ms/step - loss: 0.0224 - accuracy: 0.9935 - val_loss: 0.5212 - val_accuracy: 0.9170\n",
      "Epoch 20/20\n",
      "100/100 [==============================] - 58s 586ms/step - loss: 0.0175 - accuracy: 0.9955 - val_loss: 0.6579 - val_accuracy: 0.9100\n"
     ]
    },
    {
     "data": {
      "text/plain": [
       "<keras.callbacks.History at 0x1aa4ba70220>"
      ]
     },
     "execution_count": 9,
     "metadata": {},
     "output_type": "execute_result"
    }
   ],
   "source": [
    "# Entrenando el modelo con las nuevas capas\n",
    "model.fit(\n",
    "    train_generator,\n",
    "    steps_per_epoch=100,\n",
    "    epochs=20,\n",
    "    validation_data=test_generator,\n",
    "    validation_steps=50)"
   ]
  },
  {
   "cell_type": "code",
   "execution_count": 10,
   "id": "c3d8f603",
   "metadata": {},
   "outputs": [
    {
     "name": "stderr",
     "output_type": "stream",
     "text": [
      "C:\\Users\\TAGOKG\\anaconda3\\lib\\site-packages\\keras\\optimizers\\optimizer_v2\\rmsprop.py:135: UserWarning: The `lr` argument is deprecated, use `learning_rate` instead.\n",
      "  super(RMSprop, self).__init__(name, **kwargs)\n"
     ]
    }
   ],
   "source": [
    "# A fino en las últimas capas de la red VGG16\n",
    "for layer in model.layers[:15]:\n",
    "    layer.trainable = False\n",
    "for layer in model.layers[15:]:\n",
    "    layer.trainable = True\n",
    "\n",
    "model.compile(loss='categorical_crossentropy',\n",
    "              optimizer=tf.keras.optimizers.RMSprop(lr=1e-5),\n",
    "              metrics=['accuracy'])\n"
   ]
  },
  {
   "cell_type": "code",
   "execution_count": 11,
   "id": "e8319449",
   "metadata": {},
   "outputs": [
    {
     "name": "stdout",
     "output_type": "stream",
     "text": [
      "268/268 [==============================] - 103s 381ms/step - loss: 0.6254 - accuracy: 0.9127\n",
      "Loss: 0.6254414319992065\n",
      "Accuracy: 0.9127265810966492\n"
     ]
    }
   ],
   "source": [
    "loss, accuracy = model.evaluate(test_generator)\n",
    "print(f'Loss: {loss}')\n",
    "print(f'Accuracy: {accuracy}')"
   ]
  },
  {
   "cell_type": "code",
   "execution_count": 12,
   "id": "9aee05e6",
   "metadata": {},
   "outputs": [],
   "source": [
    "model.save('C:/Users/TAGOKG/Desktop/DatosV3/modelo1.h5')"
   ]
  },
  {
   "cell_type": "code",
   "execution_count": null,
   "id": "5baa0d0c",
   "metadata": {},
   "outputs": [],
   "source": []
  }
 ],
 "metadata": {
  "kernelspec": {
   "display_name": "Python 3 (ipykernel)",
   "language": "python",
   "name": "python3"
  },
  "language_info": {
   "codemirror_mode": {
    "name": "ipython",
    "version": 3
   },
   "file_extension": ".py",
   "mimetype": "text/x-python",
   "name": "python",
   "nbconvert_exporter": "python",
   "pygments_lexer": "ipython3",
   "version": "3.10.9"
  }
 },
 "nbformat": 4,
 "nbformat_minor": 5
}
